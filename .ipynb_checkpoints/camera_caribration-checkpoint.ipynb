{
 "cells": [
  {
   "cell_type": "code",
   "execution_count": 1,
   "metadata": {},
   "outputs": [
    {
     "name": "stdout",
     "output_type": "stream",
     "text": [
      "Error: chessboard corners not found in image\n"
     ]
    }
   ],
   "source": [
    "import numpy as np\n",
    "import cv2\n",
    "\n",
    "# 画像読み込み\n",
    "img = cv2.imread('./IMG_0721.JPG')\n",
    "\n",
    "# キャリブレーションパターンの設定\n",
    "pattern_size = (9, 9)\n",
    "square_size = 0.018\n",
    "\n",
    "# 内部パラメータの推定\n",
    "objpoints = []  # 3Dオブジェクトポイント\n",
    "imgpoints = []  # 2Dイメージポイント\n",
    "objp = np.zeros((pattern_size[0] * pattern_size[1], 3), np.float32)\n",
    "objp[:, :2] = np.mgrid[0:pattern_size[0], 0:pattern_size[1]].T.reshape(-1, 2) * square_size\n",
    "gray = cv2.cvtColor(img, cv2.COLOR_BGR2GRAY)\n",
    "ret, corners = cv2.findChessboardCorners(gray, pattern_size, None)\n",
    "\n",
    "if ret == True:\n",
    "    objpoints.append(objp)\n",
    "    imgpoints.append(corners)\n",
    "    ret, mtx, dist, rvecs, tvecs = cv2.calibrateCamera(objpoints, imgpoints, gray.shape[::-1], None, None)\n",
    "\n",
    "    # カメラ行列と歪み係数を表示\n",
    "    print(\"Camera Matrix:\")\n",
    "    print(mtx)\n",
    "    print(\"\\nDistortion Coefficients:\")\n",
    "    print(dist)\n",
    "\n",
    "    # 画像から歪みを取り除く\n",
    "    h, w = img.shape[:2]\n",
    "    newcameramtx, roi = cv2.getOptimalNewCameraMatrix(mtx, dist, (w, h), 1, (w, h))\n",
    "    dst = cv2.undistort(img, mtx, dist, None, newcameramtx)\n",
    "\n",
    "    # 画像中心座標を取得\n",
    "    x, y, w, h = roi\n",
    "    cx, cy = x + w / 2, y + h / 2\n",
    "    print(\"\\nImage Center Coordinate: ({}, {})\".format(cx, cy))\n",
    "else:\n",
    "    print(\"Error: chessboard corners not found in image\")\n",
    "    exit()"
   ]
  },
  {
   "cell_type": "code",
   "execution_count": 17,
   "metadata": {},
   "outputs": [
    {
     "name": "stdout",
     "output_type": "stream",
     "text": [
      "Camera Matrix:\n"
     ]
    },
    {
     "ename": "NameError",
     "evalue": "name 'mtx' is not defined",
     "output_type": "error",
     "traceback": [
      "\u001b[1;31m---------------------------------------------------------------------------\u001b[0m",
      "\u001b[1;31mNameError\u001b[0m                                 Traceback (most recent call last)",
      "\u001b[1;32m<ipython-input-17-9fc07f4c8c43>\u001b[0m in \u001b[0;36m<module>\u001b[1;34m\u001b[0m\n\u001b[0;32m     23\u001b[0m \u001b[1;31m# カメラ行列と歪み係数を表示\u001b[0m\u001b[1;33m\u001b[0m\u001b[1;33m\u001b[0m\u001b[1;33m\u001b[0m\u001b[0m\n\u001b[0;32m     24\u001b[0m \u001b[0mprint\u001b[0m\u001b[1;33m(\u001b[0m\u001b[1;34m\"Camera Matrix:\"\u001b[0m\u001b[1;33m)\u001b[0m\u001b[1;33m\u001b[0m\u001b[1;33m\u001b[0m\u001b[0m\n\u001b[1;32m---> 25\u001b[1;33m \u001b[0mprint\u001b[0m\u001b[1;33m(\u001b[0m\u001b[0mmtx\u001b[0m\u001b[1;33m)\u001b[0m\u001b[1;33m\u001b[0m\u001b[1;33m\u001b[0m\u001b[0m\n\u001b[0m\u001b[0;32m     26\u001b[0m \u001b[0mprint\u001b[0m\u001b[1;33m(\u001b[0m\u001b[1;34m\"\\nDistortion Coefficients:\"\u001b[0m\u001b[1;33m)\u001b[0m\u001b[1;33m\u001b[0m\u001b[1;33m\u001b[0m\u001b[0m\n\u001b[0;32m     27\u001b[0m \u001b[0mprint\u001b[0m\u001b[1;33m(\u001b[0m\u001b[0mdist\u001b[0m\u001b[1;33m)\u001b[0m\u001b[1;33m\u001b[0m\u001b[1;33m\u001b[0m\u001b[0m\n",
      "\u001b[1;31mNameError\u001b[0m: name 'mtx' is not defined"
     ]
    }
   ],
   "source": [
    "import numpy as np\n",
    "import cv2\n",
    "\n",
    "# 画像読み込み\n",
    "img = cv2.imread('./IMG_0721.JPG')\n",
    "\n",
    "# キャリブレーションパターンの設定\n",
    "pattern_size = (10, 10)\n",
    "square_size = 0.018\n",
    "\n",
    "# 内部パラメータの推定\n",
    "objpoints = []  # 3Dオブジェクトポイント\n",
    "imgpoints = []  # 2Dイメージポイント\n",
    "objp = np.zeros((pattern_size[0] * pattern_size[1], 3), np.float32)\n",
    "objp[:, :2] = np.mgrid[0:pattern_size[0], 0:pattern_size[1]].T.reshape(-1, 2) * square_size\n",
    "gray = cv2.cvtColor(img, cv2.COLOR_BGR2GRAY)\n",
    "ret, corners = cv2.findChessboardCorners(gray, pattern_size, None)\n",
    "if ret == True:\n",
    "    objpoints.append(objp)\n",
    "    imgpoints.append(corners)\n",
    "    ret, mtx, dist, rvecs, tvecs = cv2.calibrateCamera(objpoints, imgpoints, gray.shape[::-1], None, None)\n",
    "\n",
    "# カメラ行列と歪み係数を表示\n",
    "print(\"Camera Matrix:\")\n",
    "print(mtx)\n",
    "print(\"\\nDistortion Coefficients:\")\n",
    "print(dist)\n",
    "\n",
    "# 画像から歪みを取り除く\n",
    "h, w = img.shape[:2]\n",
    "newcameramtx, roi = cv2.getOptimalNewCameraMatrix(mtx, dist, (w, h), 1, (w, h))\n",
    "dst = cv2.undistort(img, mtx, dist, None, newcameramtx)\n",
    "\n",
    "# 画像中心座標を取得\n",
    "x, y, w, h = roi\n",
    "cx, cy = x + w / 2, y + h / 2\n",
    "print(\"\\nImage Center Coordinate: ({}, {})\".format(cx, cy))"
   ]
  },
  {
   "cell_type": "code",
   "execution_count": 10,
   "metadata": {},
   "outputs": [],
   "source": [
    "objpoints.append(objp)"
   ]
  },
  {
   "cell_type": "code",
   "execution_count": 12,
   "metadata": {},
   "outputs": [],
   "source": [
    "imgpoints.append(corners)"
   ]
  },
  {
   "cell_type": "code",
   "execution_count": 15,
   "metadata": {},
   "outputs": [
    {
     "data": {
      "text/plain": [
       "array([[203, 204, 206, ..., 194, 190, 183],\n",
       "       [201, 201, 202, ..., 196, 192, 186],\n",
       "       [197, 197, 197, ..., 200, 191, 183],\n",
       "       ...,\n",
       "       [148, 149, 153, ..., 217, 213, 213],\n",
       "       [153, 155, 157, ..., 225, 217, 209],\n",
       "       [159, 162, 160, ..., 231, 221, 207]], dtype=uint8)"
      ]
     },
     "execution_count": 15,
     "metadata": {},
     "output_type": "execute_result"
    }
   ],
   "source": [
    "gray"
   ]
  },
  {
   "cell_type": "code",
   "execution_count": 16,
   "metadata": {},
   "outputs": [
    {
     "ename": "error",
     "evalue": "OpenCV(4.0.1) C:\\ci\\opencv-suite_1573470242804\\work\\modules\\calib3d\\src\\calibration.cpp:3357: error: (-215:Assertion failed) ni == ni1 in function 'cv::collectCalibrationData'\n",
     "output_type": "error",
     "traceback": [
      "\u001b[1;31m---------------------------------------------------------------------------\u001b[0m",
      "\u001b[1;31merror\u001b[0m                                     Traceback (most recent call last)",
      "\u001b[1;32m<ipython-input-16-e73cbb7573f6>\u001b[0m in \u001b[0;36m<module>\u001b[1;34m\u001b[0m\n\u001b[1;32m----> 1\u001b[1;33m \u001b[0mret\u001b[0m\u001b[1;33m,\u001b[0m \u001b[0mmtx\u001b[0m\u001b[1;33m,\u001b[0m \u001b[0mdist\u001b[0m\u001b[1;33m,\u001b[0m \u001b[0mrvecs\u001b[0m\u001b[1;33m,\u001b[0m \u001b[0mtvecs\u001b[0m \u001b[1;33m=\u001b[0m \u001b[0mcv2\u001b[0m\u001b[1;33m.\u001b[0m\u001b[0mcalibrateCamera\u001b[0m\u001b[1;33m(\u001b[0m\u001b[0mobjpoints\u001b[0m\u001b[1;33m,\u001b[0m \u001b[0mimgpoints\u001b[0m\u001b[1;33m,\u001b[0m \u001b[0mgray\u001b[0m\u001b[1;33m.\u001b[0m\u001b[0mshape\u001b[0m\u001b[1;33m[\u001b[0m\u001b[1;33m:\u001b[0m\u001b[1;33m:\u001b[0m\u001b[1;33m-\u001b[0m\u001b[1;36m1\u001b[0m\u001b[1;33m]\u001b[0m\u001b[1;33m,\u001b[0m \u001b[1;32mNone\u001b[0m\u001b[1;33m,\u001b[0m \u001b[1;32mNone\u001b[0m\u001b[1;33m)\u001b[0m\u001b[1;33m\u001b[0m\u001b[1;33m\u001b[0m\u001b[0m\n\u001b[0m",
      "\u001b[1;31merror\u001b[0m: OpenCV(4.0.1) C:\\ci\\opencv-suite_1573470242804\\work\\modules\\calib3d\\src\\calibration.cpp:3357: error: (-215:Assertion failed) ni == ni1 in function 'cv::collectCalibrationData'\n"
     ]
    }
   ],
   "source": [
    "ret, mtx, dist, rvecs, tvecs = cv2.calibrateCamera(objpoints, imgpoints, gray.shape[::-1], None, None)"
   ]
  },
  {
   "cell_type": "code",
   "execution_count": null,
   "metadata": {},
   "outputs": [],
   "source": [
    "import numpy as np\n",
    "import cv2\n",
    "import glob\n",
    "\n",
    "# チェッカーボードのパラメーター\n",
    "CHECKERBOARD = (9, 9) \n",
    "# チェッカーボードサイズ（mm）\n",
    "CHECKERBOARD_SIZE = 18\n",
    "\n",
    "# キャリブレーション画像フォルダのパス\n",
    "images_folder = 'camera_4.2/'\n",
    "\n",
    "# チェッカーボードの3D座標\n",
    "objp = np.zeros((CHECKERBOARD[0]*CHECKERBOARD[1], 3), np.float32)\n",
    "objp[:,:2] = np.mgrid[0:CHECKERBOARD[0],0:CHECKERBOARD[1]].T.reshape(-1,2)*CHECKERBOARD_SIZE\n",
    "\n",
    "# 3D座標と2D座標の対応を保存するための配列\n",
    "objpoints = [] # 3D座標\n",
    "imgpoints = [] # 2D座標\n",
    "\n",
    "# キャリブレーション画像を読み込んで、チェッカーボードを検出する\n",
    "images = glob.glob(images_folder + '*.JPG')\n",
    "for fname in images:\n",
    "    img = cv2.imread(fname)\n",
    "    gray = cv2.cvtColor(img, cv2.COLOR_BGR2GRAY)\n",
    "    ret, corners = cv2.findChessboardCorners(gray, CHECKERBOARD, None)\n",
    "\n",
    "    # チェッカーボードを検出した場合、3D座標と2D座標の対応を追加する\n",
    "    if ret == True:\n",
    "        objpoints.append(objp)\n",
    "        imgpoints.append(corners)\n",
    "\n",
    "# キャリブレーションを実行する\n",
    "ret, mtx, dist, rvecs, tvecs = cv2.calibrateCamera(objpoints, imgpoints, gray.shape[::-1], None, None)\n",
    "\n",
    "# 焦点距離、レンズ歪み、画像中心座標を表示する\n",
    "print(\"Focal Length: \", mtx[0][0])\n",
    "print(\"Distortion Coefficients: \", dist)\n",
    "print(\"Image Center: \", mtx[0][2], mtx[1][2])"
   ]
  },
  {
   "cell_type": "code",
   "execution_count": null,
   "metadata": {},
   "outputs": [],
   "source": []
  }
 ],
 "metadata": {
  "kernelspec": {
   "display_name": "Python 3",
   "language": "python",
   "name": "python3"
  },
  "language_info": {
   "codemirror_mode": {
    "name": "ipython",
    "version": 3
   },
   "file_extension": ".py",
   "mimetype": "text/x-python",
   "name": "python",
   "nbconvert_exporter": "python",
   "pygments_lexer": "ipython3",
   "version": "3.8.3"
  }
 },
 "nbformat": 4,
 "nbformat_minor": 4
}
