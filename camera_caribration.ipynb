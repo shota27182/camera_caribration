{
 "cells": [
  {
   "cell_type": "markdown",
   "metadata": {},
   "source": [
    "# 実験1:iPhoneの広角カメラで撮影した画像を用いてカメラキャリブレーションを行う"
   ]
  },
  {
   "cell_type": "code",
   "execution_count": 22,
   "metadata": {},
   "outputs": [
    {
     "name": "stdout",
     "output_type": "stream",
     "text": [
      "Focal Length:  3059.144851637834\n",
      "Distortion Coefficients:  [[ 2.23846990e-01 -7.14772132e-01 -1.10507210e-03  2.83078030e-04\n",
      "   5.32659154e-01]]\n",
      "Image Center:  1499.603394457762 2001.8495710815223\n",
      "\n",
      "Principal Point: (1500.693420677926, 1996.4862571293488)\n",
      "Camera Matrix:\n",
      " [[3.05914485e+03 0.00000000e+00 1.49960339e+03]\n",
      " [0.00000000e+00 3.05805845e+03 2.00184957e+03]\n",
      " [0.00000000e+00 0.00000000e+00 1.00000000e+00]]\n"
     ]
    }
   ],
   "source": [
    "import numpy as np\n",
    "import cv2\n",
    "import glob\n",
    "\n",
    "# チェッカーボードのパラメーター\n",
    "CHECKERBOARD = (9, 9) \n",
    "# チェッカーボードサイズ（mm）\n",
    "CHECKERBOARD_SIZE = 18\n",
    "\n",
    "# キャリブレーション画像フォルダのパス\n",
    "images_folder = 'camera_4.2/'\n",
    "\n",
    "# チェッカーボードの3D座標\n",
    "objp = np.zeros((CHECKERBOARD[0]*CHECKERBOARD[1], 3), np.float32)\n",
    "objp[:,:2] = np.mgrid[0:CHECKERBOARD[0],0:CHECKERBOARD[1]].T.reshape(-1,2)*CHECKERBOARD_SIZE\n",
    "\n",
    "# 3D座標と2D座標の対応を保存するための配列\n",
    "objpoints = [] # 3D座標\n",
    "imgpoints = [] # 2D座標\n",
    "\n",
    "# キャリブレーション画像を読み込んで、チェッカーボードを検出する\n",
    "images = glob.glob(images_folder + '*.JPG')\n",
    "for fname in images:\n",
    "    img = cv2.imread(fname)\n",
    "    gray = cv2.cvtColor(img, cv2.COLOR_BGR2GRAY)\n",
    "    ret, corners = cv2.findChessboardCorners(gray, CHECKERBOARD, None)\n",
    "\n",
    "    # チェッカーボードを検出した場合、3D座標と2D座標の対応を追加する\n",
    "    if ret == True:\n",
    "        objpoints.append(objp)\n",
    "        imgpoints.append(corners)\n",
    "\n",
    "# キャリブレーションを実行する\n",
    "ret, mtx, dist, rvecs, tvecs = cv2.calibrateCamera(objpoints, imgpoints, gray.shape[::-1], None, None)\n",
    "\n",
    "# 焦点距離、レンズ歪み、画像中心座標を表示する\n",
    "print(\"Focal Length: \", mtx[0][0])\n",
    "print(\"Distortion Coefficients: \", dist)\n",
    "print(\"Image Center: \", mtx[0][2], mtx[1][2])\n",
    "\n",
    "# 画像中心座標を取得\n",
    "h, w = gray.shape[:2]\n",
    "newcameramtx, roi = cv2.getOptimalNewCameraMatrix(mtx, dist, (w, h), 1, (w, h))\n",
    "cx, cy = newcameramtx[0][2], newcameramtx[1][2]\n",
    "print(\"\\nPrincipal Point: ({}, {})\".format(cx, cy))\n",
    "\n",
    "# 内部パラメータの表示\n",
    "print(\"Camera Matrix:\\n\", mtx)"
   ]
  },
  {
   "cell_type": "markdown",
   "metadata": {},
   "source": [
    "# 実験2:iPhoneの超広角カメラを用いてカメラキャリブレーションを行う"
   ]
  },
  {
   "cell_type": "code",
   "execution_count": 23,
   "metadata": {},
   "outputs": [
    {
     "name": "stdout",
     "output_type": "stream",
     "text": [
      "Focal Length:  1631.0714396341382\n",
      "Distortion Coefficients:  [[ 0.01583644 -0.02517731 -0.00094901  0.00014359  0.0201964 ]]\n",
      "Image Center:  1521.3525492776275 2014.3845519684546\n",
      "\n",
      "Principal Point: (1521.6770387769066, 2009.0431455574726)\n",
      "Camera Matrix:\n",
      " [[1.63107144e+03 0.00000000e+00 1.52135255e+03]\n",
      " [0.00000000e+00 1.62848883e+03 2.01438455e+03]\n",
      " [0.00000000e+00 0.00000000e+00 1.00000000e+00]]\n"
     ]
    }
   ],
   "source": [
    "import numpy as np\n",
    "import cv2\n",
    "import glob\n",
    "\n",
    "# チェッカーボードのパラメーター\n",
    "CHECKERBOARD = (9, 9) \n",
    "# チェッカーボードサイズ（mm）\n",
    "CHECKERBOARD_SIZE = 18\n",
    "\n",
    "# キャリブレーション画像フォルダのパス\n",
    "images_folder = 'camera_1.55/'\n",
    "\n",
    "# チェッカーボードの3D座標\n",
    "objp = np.zeros((CHECKERBOARD[0]*CHECKERBOARD[1], 3), np.float32)\n",
    "objp[:,:2] = np.mgrid[0:CHECKERBOARD[0],0:CHECKERBOARD[1]].T.reshape(-1,2)*CHECKERBOARD_SIZE\n",
    "\n",
    "# 3D座標と2D座標の対応を保存するための配列\n",
    "objpoints = [] # 3D座標\n",
    "imgpoints = [] # 2D座標\n",
    "\n",
    "# キャリブレーション画像を読み込んで、チェッカーボードを検出する\n",
    "images = glob.glob(images_folder + '*.JPG')\n",
    "for fname in images:\n",
    "    img = cv2.imread(fname)\n",
    "    gray = cv2.cvtColor(img, cv2.COLOR_BGR2GRAY)\n",
    "    ret, corners = cv2.findChessboardCorners(gray, CHECKERBOARD, None)\n",
    "\n",
    "    # チェッカーボードを検出した場合、3D座標と2D座標の対応を追加する\n",
    "    if ret == True:\n",
    "        objpoints.append(objp)\n",
    "        imgpoints.append(corners)\n",
    "\n",
    "# キャリブレーションを実行する\n",
    "ret, mtx, dist, rvecs, tvecs = cv2.calibrateCamera(objpoints, imgpoints, gray.shape[::-1], None, None)\n",
    "\n",
    "# 焦点距離、レンズ歪み、画像中心座標を表示する\n",
    "print(\"Focal Length: \", mtx[0][0])\n",
    "print(\"Distortion Coefficients: \", dist)\n",
    "print(\"Image Center: \", mtx[0][2], mtx[1][2])\n",
    "\n",
    "# 画像中心座標を取得\n",
    "h, w = gray.shape[:2]\n",
    "newcameramtx, roi = cv2.getOptimalNewCameraMatrix(mtx, dist, (w, h), 1, (w, h))\n",
    "cx, cy = newcameramtx[0][2], newcameramtx[1][2]\n",
    "print(\"\\nPrincipal Point: ({}, {})\".format(cx, cy))\n",
    "\n",
    "# 内部パラメータの表示\n",
    "print(\"Camera Matrix:\\n\", mtx)"
   ]
  },
  {
   "cell_type": "code",
   "execution_count": null,
   "metadata": {},
   "outputs": [],
   "source": []
  }
 ],
 "metadata": {
  "kernelspec": {
   "display_name": "Python 3",
   "language": "python",
   "name": "python3"
  },
  "language_info": {
   "codemirror_mode": {
    "name": "ipython",
    "version": 3
   },
   "file_extension": ".py",
   "mimetype": "text/x-python",
   "name": "python",
   "nbconvert_exporter": "python",
   "pygments_lexer": "ipython3",
   "version": "3.8.3"
  }
 },
 "nbformat": 4,
 "nbformat_minor": 4
}
